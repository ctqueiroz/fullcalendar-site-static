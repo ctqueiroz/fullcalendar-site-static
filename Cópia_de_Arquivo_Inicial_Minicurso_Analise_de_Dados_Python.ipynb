{
  "nbformat": 4,
  "nbformat_minor": 0,
  "metadata": {
    "colab": {
      "provenance": [],
      "include_colab_link": true
    },
    "kernelspec": {
      "name": "python3",
      "display_name": "Python 3"
    }
  },
  "cells": [
    {
      "cell_type": "markdown",
      "metadata": {
        "id": "view-in-github",
        "colab_type": "text"
      },
      "source": [
        "<a href=\"https://colab.research.google.com/github/ctqueiroz/fullcalendar-site-static/blob/master/C%C3%B3pia_de_Arquivo_Inicial_Minicurso_Analise_de_Dados_Python.ipynb\" target=\"_parent\"><img src=\"https://colab.research.google.com/assets/colab-badge.svg\" alt=\"Open In Colab\"/></a>"
      ]
    },
    {
      "cell_type": "markdown",
      "metadata": {
        "id": "A4VwUp4-f8KN"
      },
      "source": [
        "# Desafio:\n",
        "\n",
        "Você trabalha em uma grande empresa de Cartão de Crédito e o diretor da empresa percebeu que o número de clientes que cancelam seus cartões tem aumentado significativamente, causando prejuízos enormes para a empresa\n",
        "\n",
        "O que fazer para evitar isso? Como saber as pessoas que têm maior tendência a cancelar o cartão?\n",
        "\n",
        "# O que temos:\n",
        "\n",
        "Temos 1 base de dados com informações dos clientes, tanto clientes atuais quanto clientes que cancelaram o cartão\n",
        "\n",
        "Download da Base de Dados: Botão na página\n",
        "\n",
        "Referência: https://www.kaggle.com/sakshigoyal7/credit-card-customers"
      ]
    },
    {
      "cell_type": "code",
      "source": [],
      "metadata": {
        "id": "0dq75B9VcmNZ"
      },
      "execution_count": null,
      "outputs": []
    },
    {
      "cell_type": "code",
      "source": [],
      "metadata": {
        "id": "mV83Dzcjcmza"
      },
      "execution_count": null,
      "outputs": []
    },
    {
      "cell_type": "markdown",
      "source": [],
      "metadata": {
        "id": "MgBzf4sIcnG_"
      }
    },
    {
      "cell_type": "markdown",
      "source": [
        "# Nova seção"
      ],
      "metadata": {
        "id": "zJmGdfjrcb9r"
      }
    },
    {
      "cell_type": "code",
      "metadata": {
        "id": "P6lYkZPG-QBX"
      },
      "source": [],
      "execution_count": null,
      "outputs": []
    }
  ]
}